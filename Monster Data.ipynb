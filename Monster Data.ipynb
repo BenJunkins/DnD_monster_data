{
 "cells": [
  {
   "cell_type": "markdown",
   "metadata": {},
   "source": [
    "# Libraries"
   ]
  },
  {
   "cell_type": "code",
   "execution_count": null,
   "metadata": {},
   "outputs": [],
   "source": [
    "from bs4 import BeautifulSoup\n",
    "import requests\n",
    "import re\n",
    "import pandas as pd"
   ]
  },
  {
   "cell_type": "markdown",
   "metadata": {
    "jp-MarkdownHeadingCollapsed": true
   },
   "source": [
    "# Functions"
   ]
  },
  {
   "cell_type": "code",
   "execution_count": 83,
   "metadata": {
    "editable": true,
    "slideshow": {
     "slide_type": ""
    },
    "tags": []
   },
   "outputs": [],
   "source": [
    "def monster_name(monster_soup):                                           # The input is the Soup object made from the individual monsters webpage\n",
    "    \n",
    "    \"\"\"Get Monster's Name\"\"\"\n",
    "    \n",
    "    return monster_soup.find(\"span\", class_=\"mw-headline\").get_text()     # The name is in the first span of the page with class \"mw-headline\". This grabs the text.\n",
    "\n",
    "\n",
    "\n",
    "def monster_size_type_alignment(monster_soup):\n",
    "    \n",
    "    \"\"\"Get Monster's Size, Body Type, and Alignment\"\"\"\n",
    "    \n",
    "    size, body_type, alignment = monster_soup.find(\"table\").find(\"i\").get_text().split(\" \")   # The size, body type, and alignment are all together in the first italic tag of the first table. This grabs and assgins the values\n",
    "    body_type = body_type.rstrip(\",\")                                                         # Removes a comma between body type and alignment\n",
    "    \n",
    "    return size, body_type, alignment\n",
    "\n",
    "\n",
    "\n",
    "def monster_ac_naturalarmor(monster_soup):\n",
    "    \n",
    "    \"\"\"Get Monster's Armor Class value and returns a boolean value if the monster has natural armor or not\"\"\"\n",
    "    \n",
    "    armorclass_naturalarmor = monster_soup.find(\"a\", href=re.compile(\"Armor_Class\")).parent.next_sibling.get_text().strip(\" \")      # Searches for the only reference of Armor Class then goes up in the tree to grab the value with possible natural armor. There is a space at the beginning of the text.\n",
    "    \n",
    "    if \"natural armour\" in armorclass_naturalarmor:                              # Note the u in \"natural armour\" \n",
    "        ac = armorclass_naturalarmor.split(\" \", 1)[0]                            # Splits the armorclass_naturalarmor variable only splitting once because of the space in \"natural armour\". Only grabs the first item which is the AC.\n",
    "        natural_armor = True        \n",
    "    else:\n",
    "        ac = armorclass_naturalarmor                                             # Assigns the armor class to ac if there is no natural armor.\n",
    "        natural_armor = False\n",
    "        \n",
    "    return int(ac), natural_armor                                                # Variable is converted from string to int\n",
    "\n",
    "\n",
    "\n",
    "def monster_hp_hitdice_hitdicecount(monster_soup):\n",
    "\n",
    "    \"\"\"Get Monster's Hit Points, Hit Dice, and how many Hit Dice the monster has\"\"\"\n",
    "    \n",
    "    hitpoints_hitpointscalc = monster_soup.find(\"a\", href=re.compile(\"Hit_Points\")).parent.next_sibling.get_text().strip(\" \")               # Searches for the only reference of Hit Points then goes up in the tree to grab the value with the calculation for HP. There is a space at the beginning of the text.\n",
    "    hit_points, hit_points_calc = hitpoints_hitpointscalc.split(\" \", 1)                                  # Splits the HP and the calculation\n",
    "    hit_dice_count, hit_dice = hit_points_calc.strip(\"()\").split(\" + \")[0].split(\"d\")                    # Opted for trimming the text from outside-inside instead of extracting because the possible variations of hit die and the number of hit die \n",
    "    \n",
    "    return int(hit_points), int(hit_dice_count), int(hit_dice)                                           # Variables are converted from string to int\n",
    "\n",
    "\n",
    "\n",
    "def monster_speed(monster_soup):\n",
    "\n",
    "    \"\"\"Get Monster's air, land, and water speed\"\"\"\n",
    "\n",
    "    speed = monster_soup.find(\"a\", href=re.compile(\"Movement\")).parent.next_sibling.get_text().strip(\" \").split(\",\")       # Grabs all the modes of movement (ground, fly, and swim) and stores it in a list. Trims the items with strip().\n",
    "    ground_speed = speed[0].rstrip(\" ft.\\n\")                                         # Assigns ground speed with the first element of speed. Trims the units and \n",
    "\n",
    "    for mode in speed[1:3]:                                                          # Loops through the second and thirf mode of movement (if there are any) to see what kind of movement it is\n",
    "        if (\"swim\" in mode) and (\"fly\" not in mode):\n",
    "            swim_speed = mode.lstrip(\"swim \").rstrip(\" ft.\\n\")                       # Each if statement determines if there is swim, fly, swim and fly, or neither then assigns it to the appropiate variable\n",
    "            fly_speed = 0                                                            # Units and newlines are trimmed as well\n",
    "        elif (\"fly\" in mode) and (\"swim\" not in mode):\n",
    "            fly_speed = mode.lstrip(\"fly \").rstrip(\" ft.\\n\")\n",
    "            swim_speed = 0\n",
    "        elif (\"swim\" and \"fly\") in mode:\n",
    "            swim_speed = mode.lstrip(\"swim \").rstrip(\" ft.\\n\")\n",
    "            fly_speed = mode.lstrip(\"fly \").rstrip(\" ft.\\n\")\n",
    "        elif (\"swim\" and \"fly\") not in mode:\n",
    "            swim_speed = 0\n",
    "            fly_speed = 0\n",
    "            \n",
    "    return int(ground_speed), int(fly_speed), int(swim_speed)                        # Variables are converted from string to int"
   ]
  },
  {
   "cell_type": "markdown",
   "metadata": {},
   "source": [
    "# Code Body"
   ]
  },
  {
   "cell_type": "markdown",
   "metadata": {
    "jp-MarkdownHeadingCollapsed": true
   },
   "source": [
    "### Initailizaing Monster Dataframe"
   ]
  },
  {
   "cell_type": "code",
   "execution_count": 81,
   "metadata": {},
   "outputs": [],
   "source": [
    "monster_df = pd.DataFrame(\n",
    "    columns = [\n",
    "        \"monster_id\",\t\n",
    "        \"monster_name\",\t\n",
    "        \"size\",\t\n",
    "        \"body_type\",\t\n",
    "        \"alignment\",\t\n",
    "        \"ac\",\n",
    "        \"natural_armor\",\n",
    "        \"hit_points\",\t\n",
    "        \"hit_dice_count\",\n",
    "        \"hit_dice\",\n",
    "        \"ground_speed_ft\",\t\n",
    "        \"fly_speed_ft\",\t\n",
    "        \"swim_speed_ft\",\n",
    "        \"strength_score\",\t\n",
    "        \"dexterity_score\",\t\n",
    "        \"constitution_score\",\t\n",
    "        \"intelligence_score\",\t\n",
    "        \"wisdom_score\",\t\n",
    "        \"charisma_score\",\n",
    "        \"strength_modifier\",\n",
    "        \"dexterity_modifier\",\n",
    "        \"constitution_modifier\",\n",
    "        \"intelligence_modifier\",\n",
    "        \"wisdom_modifier\",\n",
    "        \"charisma_modifier\",\n",
    "        \"challenge_rating\",\t\n",
    "        \"passive_perception\",\t\n",
    "        \"blindsight\",\t\n",
    "        \"darkvision\",\t\n",
    "        \"tremosense\",\t\n",
    "        \"truesight\",\t\n",
    "        \"acid_damage\",\t\n",
    "        \"bludgeoning_damage\",\t\n",
    "        \"cold_damage\",\t\n",
    "        \"fire_damage\",\t\n",
    "        \"force_damage\",\t\n",
    "        \"lightning_damage\",\t\n",
    "        \"necrotic_damage\",\t\n",
    "        \"piercing_damage\",\t\n",
    "        \"poison_damage\",\t\n",
    "        \"psychic_damage\",\t\n",
    "        \"radiant_damage\",\t\n",
    "        \"slashing_damage\",\t\n",
    "        \"blinded\",\t\n",
    "        \"charmed\",\t\n",
    "        \"deafened\",\t\n",
    "        \"exhaustion\",\t\n",
    "        \"frightened\",\t\n",
    "        \"grappled\",\t\n",
    "        \"incapacitated\",\t\n",
    "        \"invisible\",\t\n",
    "        \"paralyzed\",\t\n",
    "        \"petrified\",\t\n",
    "        \"poisoned\",\t\n",
    "        \"prone\",\t\n",
    "        \"restrained\",\t\n",
    "        \"stunned\",\t\n",
    "        \"unconscious\"\n",
    "    ]\n",
    ")"
   ]
  },
  {
   "cell_type": "markdown",
   "metadata": {},
   "source": [
    "### Get Webpage for the List of Monsters"
   ]
  },
  {
   "cell_type": "code",
   "execution_count": 22,
   "metadata": {
    "colab": {
     "base_uri": "https://localhost:8080/",
     "output_embedded_package_id": "1LqSCga0o77BPtUXGgWrEIgWvoOkSBePn"
    },
    "executionInfo": {
     "elapsed": 4122,
     "status": "ok",
     "timestamp": 1736291675084,
     "user": {
      "displayName": "Benjamin Junkins",
      "userId": "09000187398683886573"
     },
     "user_tz": 300
    },
    "id": "LXJEsCIpTOjI",
    "outputId": "20c7377d-c455-4b1a-9e7e-e480d84c0c8a"
   },
   "outputs": [],
   "source": [
    "response = requests.get(\"https://www.dandwiki.com/wiki/5e_Monsters\")\n",
    "\n",
    "if response.status_code == 200:                   # Checks that the connection to the webpage was established\n",
    "    \"\"\"Makes the HTML soup from the content of the response and assigns it to a variable\"\"\"\n",
    "    monster_list_soup = BeautifulSoup(\n",
    "        response.content,\n",
    "        \"html.parser\"\n",
    "    )          \n",
    "else:\n",
    "    print(response)                               # If not a good connection, prints response code"
   ]
  },
  {
   "cell_type": "markdown",
   "metadata": {},
   "source": [
    "### Get Hyperlinks for all Monsters"
   ]
  },
  {
   "cell_type": "code",
   "execution_count": 23,
   "metadata": {
    "colab": {
     "base_uri": "https://localhost:8080/"
    },
    "executionInfo": {
     "elapsed": 233,
     "status": "ok",
     "timestamp": 1736292441256,
     "user": {
      "displayName": "Benjamin Junkins",
      "userId": "09000187398683886573"
     },
     "user_tz": 300
    },
    "id": "A5B1YW862IWt",
    "outputId": "334f9cbd-d9cc-4c7d-80e4-c6cb4f541bad"
   },
   "outputs": [],
   "source": [
    "monster_href = []                                                                       # List to store each monster's hyperlink\n",
    "\n",
    "for a in monster_list_soup.find_all(\"a\", href=re.compile(\"\\\\(5e_Creature\\\\)\")):         # Finds all <a> tags that have a hyperlink to a monster. The '\\' allows the parenthesis to be recognized\n",
    "    monster_href.append(\"https://dandwiki.com\" + a[\"href\"])                             # Adds the web address prefix to the href attribute and appends it to the monster_href list"
   ]
  },
  {
   "cell_type": "markdown",
   "metadata": {},
   "source": [
    "### Get Monster Attributes"
   ]
  },
  {
   "cell_type": "code",
   "execution_count": 86,
   "metadata": {
    "colab": {
     "base_uri": "https://localhost:8080/"
    },
    "executionInfo": {
     "elapsed": 239,
     "status": "ok",
     "timestamp": 1736219513825,
     "user": {
      "displayName": "Benjamin Junkins",
      "userId": "09000187398683886573"
     },
     "user_tz": 300
    },
    "id": "32xfA_5lsqtG",
    "outputId": "ec08b512-a95c-493c-adbf-ac6a560e0e5e"
   },
   "outputs": [],
   "source": [
    "response = requests.get(monster_href[0])\n",
    "\n",
    "if response.status_code == 200:                                                   # Checks that the connection to the webpage was established\n",
    "    soup = BeautifulSoup(response.content, \"html.parser\")                         # Makes the HTML soup from the content of the response and assigns it to variable MonsterName_soup\n",
    "else:\n",
    "    print(response)                                                               # If not a good connection, prints response code\n",
    "\n",
    "monster_df.loc[1, \"monster_id\"] = 1\n",
    "\n",
    "monster_df.loc[1, \"monster_name\"] = monster_name(soup)\n",
    "\n",
    "monster_df.loc[1, [\"size\", \"body_type\", \"alignment\"]] = monster_size_type_alignment(soup)\n",
    "\n",
    "monster_df.loc[1, [\"ac\", \"natural_armor\"]] = monster_ac_naturalarmor(soup)\n",
    "\n",
    "monster_df.loc[1, [\"hit_points\", \"hit_dice_count\", \"hit_dice\"]] = monster_hp_hitdice_hitdicecount(soup)\n",
    "\n",
    "monster_df.loc[1, [\"ground_speed\", \"fly_speed\", \"swim_speed\"]] = monster_speed(soup)\n",
    "\n",
    "# monster_df\n"
   ]
  },
  {
   "cell_type": "code",
   "execution_count": 85,
   "metadata": {},
   "outputs": [],
   "source": [
    "# print(soup.prettify())"
   ]
  }
 ],
 "metadata": {
  "colab": {
   "authorship_tag": "ABX9TyMk15D6WZhSD08bnXtZzMhl",
   "provenance": []
  },
  "kernelspec": {
   "display_name": "Python 3 (ipykernel)",
   "language": "python",
   "name": "python3"
  },
  "language_info": {
   "codemirror_mode": {
    "name": "ipython",
    "version": 3
   },
   "file_extension": ".py",
   "mimetype": "text/x-python",
   "name": "python",
   "nbconvert_exporter": "python",
   "pygments_lexer": "ipython3",
   "version": "3.12.7"
  }
 },
 "nbformat": 4,
 "nbformat_minor": 4
}
